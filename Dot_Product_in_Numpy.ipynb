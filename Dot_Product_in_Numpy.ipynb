{
  "nbformat": 4,
  "nbformat_minor": 0,
  "metadata": {
    "colab": {
      "provenance": [],
      "authorship_tag": "ABX9TyOqSpqYxldIXFS2VKWGoz3d",
      "include_colab_link": true
    },
    "kernelspec": {
      "name": "python3",
      "display_name": "Python 3"
    },
    "language_info": {
      "name": "python"
    }
  },
  "cells": [
    {
      "cell_type": "markdown",
      "metadata": {
        "id": "view-in-github",
        "colab_type": "text"
      },
      "source": [
        "<a href=\"https://colab.research.google.com/github/Ali-mohammadi-design/Numpy_Stack/blob/main/Dot_Product_in_Numpy.ipynb\" target=\"_parent\"><img src=\"https://colab.research.google.com/assets/colab-badge.svg\" alt=\"Open In Colab\"/></a>"
      ]
    },
    {
      "cell_type": "code",
      "execution_count": 19,
      "metadata": {
        "id": "esmfWmEkTnkv"
      },
      "outputs": [],
      "source": [
        "import numpy as np\n",
        "import math"
      ]
    },
    {
      "cell_type": "code",
      "source": [
        "a=np.array([1.0,2.0])\n",
        "b=np.array([3.0,4.0])"
      ],
      "metadata": {
        "id": "0JrzOsNfTxfK"
      },
      "execution_count": 41,
      "outputs": []
    },
    {
      "cell_type": "code",
      "source": [
        "a"
      ],
      "metadata": {
        "colab": {
          "base_uri": "https://localhost:8080/"
        },
        "id": "qG4wkAJJT2zw",
        "outputId": "adb8cf95-f964-4c89-d4fb-0aeae3cc9bea"
      },
      "execution_count": 4,
      "outputs": [
        {
          "output_type": "execute_result",
          "data": {
            "text/plain": [
              "array([1, 2, 4])"
            ]
          },
          "metadata": {},
          "execution_count": 4
        }
      ]
    },
    {
      "cell_type": "code",
      "source": [
        "b"
      ],
      "metadata": {
        "colab": {
          "base_uri": "https://localhost:8080/"
        },
        "id": "yUfwrAafT6CS",
        "outputId": "b51a5ef7-4d20-4b64-abc7-306c7cf5a1ac"
      },
      "execution_count": 6,
      "outputs": [
        {
          "output_type": "execute_result",
          "data": {
            "text/plain": [
              "array([3, 4])"
            ]
          },
          "metadata": {},
          "execution_count": 6
        }
      ]
    },
    {
      "cell_type": "code",
      "source": [
        "a*b"
      ],
      "metadata": {
        "colab": {
          "base_uri": "https://localhost:8080/"
        },
        "id": "iwUk9vfRUBQd",
        "outputId": "d082a214-9548-4aa2-bf74-527f9eb91523"
      },
      "execution_count": 7,
      "outputs": [
        {
          "output_type": "execute_result",
          "data": {
            "text/plain": [
              "array([3, 8])"
            ]
          },
          "metadata": {},
          "execution_count": 7
        }
      ]
    },
    {
      "cell_type": "code",
      "source": [
        "dot=0\n",
        "for e,f in zip(a,b):\n",
        " dot=e*f+dot\n",
        "print(dot)\n"
      ],
      "metadata": {
        "colab": {
          "base_uri": "https://localhost:8080/"
        },
        "id": "KtCqfVFeUCXr",
        "outputId": "3ab139cd-d3b3-4e0e-c8f4-d5adb788d276"
      },
      "execution_count": 9,
      "outputs": [
        {
          "output_type": "stream",
          "name": "stdout",
          "text": [
            "11\n"
          ]
        }
      ]
    },
    {
      "cell_type": "markdown",
      "source": [
        "What is zip() in Python?\n",
        "The zip() function combines (zips) two or more iterables (like lists or arrays) together element by element.\n",
        "\n",
        "Think of it as pairing socks from two drawers:\n",
        "\n",
        "python\n",
        "Copy\n",
        "Edit\n",
        "list1 = [1, 2]\n",
        "list2 = [3, 4]\n",
        "zipped = zip(list1, list2)\n",
        "\n",
        "print(list(zipped))  # → [(1, 3), (2, 4)]\n",
        "🧠 In your code:\n",
        "python\n",
        "Copy\n",
        "Edit\n",
        "a = np.array([1, 2])\n",
        "b = np.array([3, 4])\n",
        "dot = 0\n",
        "\n",
        "for e, f in zip(a, b):\n",
        "    dot = e * f + dot\n",
        "\n",
        "print(dot)\n",
        "Let’s break it down step by step:\n",
        "\n",
        "zip(a, b) → pairs the first element of a with the first of b, the second with the second, etc.\n",
        "→ becomes: [(1, 3), (2, 4)]\n",
        "\n",
        "Loop runs twice:\n",
        "\n",
        "1st loop: e = 1, f = 3 → dot = 1*3 + 0 = 3\n",
        "\n",
        "2nd loop: e = 2, f = 4 → dot = 2*4 + 3 = 11\n",
        "\n",
        "Final result: print(dot) → 11"
      ],
      "metadata": {
        "id": "asXVC1JKU-ry"
      }
    },
    {
      "cell_type": "code",
      "source": [
        "np.sum(a*b)"
      ],
      "metadata": {
        "colab": {
          "base_uri": "https://localhost:8080/"
        },
        "id": "RwJQ66CHUZcF",
        "outputId": "c7aab660-ba39-4f68-ccd9-cacf4cd8c91f"
      },
      "execution_count": 10,
      "outputs": [
        {
          "output_type": "execute_result",
          "data": {
            "text/plain": [
              "np.int64(11)"
            ]
          },
          "metadata": {},
          "execution_count": 10
        }
      ]
    },
    {
      "cell_type": "code",
      "source": [
        "(a*b).sum()"
      ],
      "metadata": {
        "colab": {
          "base_uri": "https://localhost:8080/"
        },
        "id": "zGsaWwNTVVCB",
        "outputId": "25b13330-d62e-4cd8-e4c1-fff4735fc984"
      },
      "execution_count": 12,
      "outputs": [
        {
          "output_type": "execute_result",
          "data": {
            "text/plain": [
              "np.int64(11)"
            ]
          },
          "metadata": {},
          "execution_count": 12
        }
      ]
    },
    {
      "cell_type": "code",
      "source": [
        "c=0\n",
        "for f in a:\n",
        "  c=f*f+c\n",
        "d=math.sqrt(c)\n",
        "d"
      ],
      "metadata": {
        "colab": {
          "base_uri": "https://localhost:8080/"
        },
        "id": "zxZ0ny5-XUZo",
        "outputId": "ea80c3bd-b7d8-4629-92cb-01127e3241d2"
      },
      "execution_count": 20,
      "outputs": [
        {
          "output_type": "execute_result",
          "data": {
            "text/plain": [
              "2.23606797749979"
            ]
          },
          "metadata": {},
          "execution_count": 20
        }
      ]
    },
    {
      "cell_type": "code",
      "source": [
        "def abs(r):\n",
        "  c=0\n",
        "  for f in r:\n",
        "   c=f*f+c\n",
        "  d=math.sqrt(c)\n",
        "  return d"
      ],
      "metadata": {
        "id": "1o7zgX8wVbw3"
      },
      "execution_count": 49,
      "outputs": []
    },
    {
      "cell_type": "code",
      "source": [
        "type(abs(a))"
      ],
      "metadata": {
        "colab": {
          "base_uri": "https://localhost:8080/"
        },
        "id": "ouaPztmKa0Vo",
        "outputId": "b402f59e-091d-4392-e350-689cbd99d060"
      },
      "execution_count": 50,
      "outputs": [
        {
          "output_type": "execute_result",
          "data": {
            "text/plain": [
              "float"
            ]
          },
          "metadata": {},
          "execution_count": 50
        }
      ]
    },
    {
      "cell_type": "code",
      "source": [
        "a"
      ],
      "metadata": {
        "colab": {
          "base_uri": "https://localhost:8080/"
        },
        "id": "6pmHs48ea1iT",
        "outputId": "3e74d85a-7f0f-4c5c-c119-ea97602ee74e"
      },
      "execution_count": 27,
      "outputs": [
        {
          "output_type": "execute_result",
          "data": {
            "text/plain": [
              "array([1, 2])"
            ]
          },
          "metadata": {},
          "execution_count": 27
        }
      ]
    },
    {
      "cell_type": "code",
      "source": [
        "a.T"
      ],
      "metadata": {
        "colab": {
          "base_uri": "https://localhost:8080/"
        },
        "id": "Kkve1DWFbSv4",
        "outputId": "1f0e95cb-7c33-4e90-d360-8c9afc556b10"
      },
      "execution_count": 29,
      "outputs": [
        {
          "output_type": "execute_result",
          "data": {
            "text/plain": [
              "array([1, 2])"
            ]
          },
          "metadata": {},
          "execution_count": 29
        }
      ]
    },
    {
      "cell_type": "code",
      "source": [
        "cos_ab=float((a.T*b).sum()/(abs(a)*abs(b)))"
      ],
      "metadata": {
        "id": "1lWk_PCnbTjX"
      },
      "execution_count": 58,
      "outputs": []
    },
    {
      "cell_type": "code",
      "source": [
        "cos_ab"
      ],
      "metadata": {
        "colab": {
          "base_uri": "https://localhost:8080/"
        },
        "id": "lbwgr8khcAb5",
        "outputId": "33f70cb4-3dbf-49ea-d984-d892a9c41989"
      },
      "execution_count": 59,
      "outputs": [
        {
          "output_type": "execute_result",
          "data": {
            "text/plain": [
              "0.9838699100999074"
            ]
          },
          "metadata": {},
          "execution_count": 59
        }
      ]
    },
    {
      "cell_type": "code",
      "source": [],
      "metadata": {
        "id": "9SmDx9Z2eWNW"
      },
      "execution_count": null,
      "outputs": []
    }
  ]
}