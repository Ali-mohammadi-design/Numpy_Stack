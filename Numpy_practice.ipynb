{
  "nbformat": 4,
  "nbformat_minor": 0,
  "metadata": {
    "colab": {
      "provenance": [],
      "authorship_tag": "ABX9TyP/XlpBmiX+KqfTj4jmNojc",
      "include_colab_link": true
    },
    "kernelspec": {
      "name": "python3",
      "display_name": "Python 3"
    },
    "language_info": {
      "name": "python"
    }
  },
  "cells": [
    {
      "cell_type": "markdown",
      "metadata": {
        "id": "view-in-github",
        "colab_type": "text"
      },
      "source": [
        "<a href=\"https://colab.research.google.com/github/Ali-mohammadi-design/Numpy_Stack/blob/main/Numpy_practice.ipynb\" target=\"_parent\"><img src=\"https://colab.research.google.com/assets/colab-badge.svg\" alt=\"Open In Colab\"/></a>"
      ]
    },
    {
      "cell_type": "code",
      "execution_count": 1,
      "metadata": {
        "id": "hBNGukeqNcSi"
      },
      "outputs": [],
      "source": [
        "import numpy as np"
      ]
    },
    {
      "cell_type": "code",
      "source": [
        "a=np.array([[1,2],[3,4]])"
      ],
      "metadata": {
        "id": "dilbG5JuNeOd"
      },
      "execution_count": 2,
      "outputs": []
    },
    {
      "cell_type": "code",
      "source": [
        "a"
      ],
      "metadata": {
        "colab": {
          "base_uri": "https://localhost:8080/"
        },
        "id": "s_4U2ud7Nlke",
        "outputId": "be39320d-4599-420d-e3c0-6b13d7d47138"
      },
      "execution_count": 3,
      "outputs": [
        {
          "output_type": "execute_result",
          "data": {
            "text/plain": [
              "array([[1, 2],\n",
              "       [3, 4]])"
            ]
          },
          "metadata": {},
          "execution_count": 3
        }
      ]
    },
    {
      "cell_type": "code",
      "source": [
        "float(a[1][0])"
      ],
      "metadata": {
        "colab": {
          "base_uri": "https://localhost:8080/"
        },
        "id": "QN_bIv9eNmE-",
        "outputId": "80b35bf8-3304-4711-b85d-5be29de48e83"
      },
      "execution_count": 7,
      "outputs": [
        {
          "output_type": "execute_result",
          "data": {
            "text/plain": [
              "3.0"
            ]
          },
          "metadata": {},
          "execution_count": 7
        }
      ]
    },
    {
      "cell_type": "code",
      "source": [
        "a[0,1]"
      ],
      "metadata": {
        "colab": {
          "base_uri": "https://localhost:8080/"
        },
        "id": "GNQrUxQvNnMa",
        "outputId": "955ee4f1-25dc-42db-dba8-9c2331b40625"
      },
      "execution_count": 8,
      "outputs": [
        {
          "output_type": "execute_result",
          "data": {
            "text/plain": [
              "np.int64(2)"
            ]
          },
          "metadata": {},
          "execution_count": 8
        }
      ]
    },
    {
      "cell_type": "code",
      "source": [
        "a[:,0]"
      ],
      "metadata": {
        "colab": {
          "base_uri": "https://localhost:8080/"
        },
        "id": "Ej6fxBwjN8ed",
        "outputId": "e4d2703b-345a-45e3-c364-6f8977c091e7"
      },
      "execution_count": 9,
      "outputs": [
        {
          "output_type": "execute_result",
          "data": {
            "text/plain": [
              "array([1, 3])"
            ]
          },
          "metadata": {},
          "execution_count": 9
        }
      ]
    },
    {
      "cell_type": "code",
      "source": [
        "a[0,:]"
      ],
      "metadata": {
        "colab": {
          "base_uri": "https://localhost:8080/"
        },
        "id": "8rIhSehnOCbZ",
        "outputId": "9dcd9ff9-95a3-4dd1-909a-dbed17e82d1f"
      },
      "execution_count": 10,
      "outputs": [
        {
          "output_type": "execute_result",
          "data": {
            "text/plain": [
              "array([1, 2])"
            ]
          },
          "metadata": {},
          "execution_count": 10
        }
      ]
    },
    {
      "cell_type": "code",
      "source": [
        "a.T"
      ],
      "metadata": {
        "colab": {
          "base_uri": "https://localhost:8080/"
        },
        "id": "RzD2aMtBOEMT",
        "outputId": "5221284f-c47f-475d-fbe8-6d9654710a1d"
      },
      "execution_count": 11,
      "outputs": [
        {
          "output_type": "execute_result",
          "data": {
            "text/plain": [
              "array([[1, 3],\n",
              "       [2, 4]])"
            ]
          },
          "metadata": {},
          "execution_count": 11
        }
      ]
    },
    {
      "cell_type": "code",
      "source": [
        "np.ones(3)"
      ],
      "metadata": {
        "colab": {
          "base_uri": "https://localhost:8080/"
        },
        "id": "am98V69oOLR4",
        "outputId": "e1cdf045-a7f3-4f3d-89dc-823da771f843"
      },
      "execution_count": 12,
      "outputs": [
        {
          "output_type": "execute_result",
          "data": {
            "text/plain": [
              "array([1., 1., 1.])"
            ]
          },
          "metadata": {},
          "execution_count": 12
        }
      ]
    },
    {
      "cell_type": "code",
      "source": [
        "np.ones([3,6])"
      ],
      "metadata": {
        "colab": {
          "base_uri": "https://localhost:8080/"
        },
        "id": "xNkAEuyWSBAR",
        "outputId": "facff127-3815-42e1-95aa-1cf6af250dc5"
      },
      "execution_count": 14,
      "outputs": [
        {
          "output_type": "execute_result",
          "data": {
            "text/plain": [
              "array([[1., 1., 1., 1., 1., 1.],\n",
              "       [1., 1., 1., 1., 1., 1.],\n",
              "       [1., 1., 1., 1., 1., 1.]])"
            ]
          },
          "metadata": {},
          "execution_count": 14
        }
      ]
    },
    {
      "cell_type": "code",
      "source": [
        "np.zeros([3,5])"
      ],
      "metadata": {
        "colab": {
          "base_uri": "https://localhost:8080/"
        },
        "id": "6RRUiW5DSDw1",
        "outputId": "d440536c-5a07-4ea5-c58d-54447645324c"
      },
      "execution_count": 15,
      "outputs": [
        {
          "output_type": "execute_result",
          "data": {
            "text/plain": [
              "array([[0., 0., 0., 0., 0.],\n",
              "       [0., 0., 0., 0., 0.],\n",
              "       [0., 0., 0., 0., 0.]])"
            ]
          },
          "metadata": {},
          "execution_count": 15
        }
      ]
    },
    {
      "cell_type": "code",
      "source": [
        "5*np.ones([3,6])"
      ],
      "metadata": {
        "colab": {
          "base_uri": "https://localhost:8080/"
        },
        "id": "aslM8AOXSJKQ",
        "outputId": "9239a77c-3cb2-4923-b73b-45bd843ff3a4"
      },
      "execution_count": 16,
      "outputs": [
        {
          "output_type": "execute_result",
          "data": {
            "text/plain": [
              "array([[5., 5., 5., 5., 5., 5.],\n",
              "       [5., 5., 5., 5., 5., 5.],\n",
              "       [5., 5., 5., 5., 5., 5.]])"
            ]
          },
          "metadata": {},
          "execution_count": 16
        }
      ]
    },
    {
      "cell_type": "code",
      "source": [
        "np.eye(3)"
      ],
      "metadata": {
        "colab": {
          "base_uri": "https://localhost:8080/"
        },
        "id": "8eyQhFfcSMLR",
        "outputId": "9a534425-a283-4d27-c624-9e359645bc1d"
      },
      "execution_count": 17,
      "outputs": [
        {
          "output_type": "execute_result",
          "data": {
            "text/plain": [
              "array([[1., 0., 0.],\n",
              "       [0., 1., 0.],\n",
              "       [0., 0., 1.]])"
            ]
          },
          "metadata": {},
          "execution_count": 17
        }
      ]
    },
    {
      "cell_type": "code",
      "source": [
        "np.random.random([4,5])"
      ],
      "metadata": {
        "colab": {
          "base_uri": "https://localhost:8080/"
        },
        "id": "cOAv-StVSOPq",
        "outputId": "529ff99d-a665-42fe-bf81-3e2d80f8c773"
      },
      "execution_count": 20,
      "outputs": [
        {
          "output_type": "execute_result",
          "data": {
            "text/plain": [
              "array([[0.97122842, 0.81650017, 0.43744884, 0.36522786, 0.25238632],\n",
              "       [0.28366876, 0.90009163, 0.27642249, 0.58208345, 0.76491536],\n",
              "       [0.14160736, 0.82603792, 0.49808377, 0.8252778 , 0.00209837],\n",
              "       [0.25697144, 0.53346905, 0.68081682, 0.74679927, 0.54878132]])"
            ]
          },
          "metadata": {},
          "execution_count": 20
        }
      ]
    },
    {
      "cell_type": "code",
      "source": [
        "a"
      ],
      "metadata": {
        "colab": {
          "base_uri": "https://localhost:8080/"
        },
        "id": "frzX1Nz-SQ07",
        "outputId": "8fa71c34-0315-4b7e-ad92-6b0323ee6a61"
      },
      "execution_count": 21,
      "outputs": [
        {
          "output_type": "execute_result",
          "data": {
            "text/plain": [
              "array([[1, 2],\n",
              "       [3, 4]])"
            ]
          },
          "metadata": {},
          "execution_count": 21
        }
      ]
    },
    {
      "cell_type": "code",
      "source": [
        "D=np.random.randint(1,11, size=(4,4))"
      ],
      "metadata": {
        "id": "tfml6mAzVeAV"
      },
      "execution_count": 22,
      "outputs": []
    },
    {
      "cell_type": "code",
      "source": [
        "D"
      ],
      "metadata": {
        "colab": {
          "base_uri": "https://localhost:8080/"
        },
        "id": "TGMRv2woV-me",
        "outputId": "2fbc9d8b-4747-4a4f-ca46-74b311428315"
      },
      "execution_count": 23,
      "outputs": [
        {
          "output_type": "execute_result",
          "data": {
            "text/plain": [
              "array([[ 7,  9,  3,  9],\n",
              "       [ 1,  4, 10,  4],\n",
              "       [ 2,  7, 10,  8],\n",
              "       [ 7,  9,  2,  8]])"
            ]
          },
          "metadata": {},
          "execution_count": 23
        }
      ]
    },
    {
      "cell_type": "code",
      "source": [
        "C=np.random.randint(1,11, size=(4,4))"
      ],
      "metadata": {
        "id": "spFsMQWBV_Ro"
      },
      "execution_count": 24,
      "outputs": []
    },
    {
      "cell_type": "code",
      "source": [
        "C"
      ],
      "metadata": {
        "colab": {
          "base_uri": "https://localhost:8080/"
        },
        "id": "Yh-FFWcwa4Jz",
        "outputId": "463e1792-fb14-45a1-97b3-f07c73b80357"
      },
      "execution_count": 25,
      "outputs": [
        {
          "output_type": "execute_result",
          "data": {
            "text/plain": [
              "array([[2, 2, 1, 7],\n",
              "       [8, 1, 8, 8],\n",
              "       [1, 7, 6, 7],\n",
              "       [6, 9, 6, 3]])"
            ]
          },
          "metadata": {},
          "execution_count": 25
        }
      ]
    },
    {
      "cell_type": "code",
      "source": [
        "L1=[[1,2,3,4],[2,3,4,5],[4,5,6,7],[6,7,8,9]]"
      ],
      "metadata": {
        "id": "ManTvD5ka4ln"
      },
      "execution_count": 26,
      "outputs": []
    },
    {
      "cell_type": "code",
      "source": [
        "L1"
      ],
      "metadata": {
        "colab": {
          "base_uri": "https://localhost:8080/"
        },
        "id": "9KsBJJsWbTeX",
        "outputId": "716b77ce-3179-40be-d40a-d7d782648b46"
      },
      "execution_count": 27,
      "outputs": [
        {
          "output_type": "execute_result",
          "data": {
            "text/plain": [
              "[[1, 2, 3, 4], [2, 3, 4, 5], [4, 5, 6, 7], [6, 7, 8, 9]]"
            ]
          },
          "metadata": {},
          "execution_count": 27
        }
      ]
    },
    {
      "cell_type": "code",
      "source": [
        "L2=[[14,24,34,4],[23,3,34,5],[34,53,6,7],[62,7,82,92]]"
      ],
      "metadata": {
        "id": "O7ktZP6IbU4v"
      },
      "execution_count": 28,
      "outputs": []
    },
    {
      "cell_type": "code",
      "source": [
        "L2"
      ],
      "metadata": {
        "colab": {
          "base_uri": "https://localhost:8080/"
        },
        "id": "tI7UzjgAbe55",
        "outputId": "5b28243b-bb51-40fb-d087-9bfa62cb8764"
      },
      "execution_count": 29,
      "outputs": [
        {
          "output_type": "execute_result",
          "data": {
            "text/plain": [
              "[[14, 24, 34, 4], [23, 3, 34, 5], [34, 53, 6, 7], [62, 7, 82, 92]]"
            ]
          },
          "metadata": {},
          "execution_count": 29
        }
      ]
    },
    {
      "cell_type": "code",
      "source": [
        "import time"
      ],
      "metadata": {
        "id": "4DGfLefHbfWi"
      },
      "execution_count": 30,
      "outputs": []
    },
    {
      "cell_type": "code",
      "source": [
        "start_time=time.time()\n",
        "\n",
        "for i in range(0,100):\n",
        "  pass\n",
        "\n",
        "end_time=time.time()\n",
        "\n",
        "print(f\"the execution time is {end_time-start_time}, and the start time is {start_time} and the end time is {end_time}\")"
      ],
      "metadata": {
        "colab": {
          "base_uri": "https://localhost:8080/"
        },
        "id": "09o1yAwobwaY",
        "outputId": "9eef9a7f-cc70-4a75-80cb-5ba6e8a2d1c8"
      },
      "execution_count": 31,
      "outputs": [
        {
          "output_type": "stream",
          "name": "stdout",
          "text": [
            "the execution time is 0.00013136863708496094, and the start time is 1743076263.0748742 and the end time is 1743076263.0750055\n"
          ]
        }
      ]
    },
    {
      "cell_type": "code",
      "source": [
        "start_time=time.time()\n",
        "\n",
        "\n",
        "M=np.dot(C,D)\n",
        "\n",
        "end_time=time.time()\n",
        "\n",
        "print(f\"the execution time is {end_time-start_time}, and the start time is {start_time} and the end time is {end_time}\")"
      ],
      "metadata": {
        "colab": {
          "base_uri": "https://localhost:8080/"
        },
        "id": "3AvsI87mcQRP",
        "outputId": "085e857a-f607-4a7a-be66-73617c3203a7"
      },
      "execution_count": 32,
      "outputs": [
        {
          "output_type": "stream",
          "name": "stdout",
          "text": [
            "the execution time is 0.00025343894958496094, and the start time is 1743076329.551702 and the end time is 1743076329.5519555\n"
          ]
        }
      ]
    },
    {
      "cell_type": "code",
      "source": [
        "start_time=time.time()\n",
        "\n",
        "\n",
        "result = [[0,0,0,0],[0,0,0,0],[0,0,0,0],[0,0,0,0]]\n",
        "\n",
        "# Perform multiplication\n",
        "for i in range(len(L1)):             # loop through rows of A\n",
        "    for j in range(len(L1[0])):      # loop through columns of B\n",
        "        for k in range(len(L2)):     # loop through rows of B\n",
        "            result[i][j] += L1[i][k] * L2[k][j]\n",
        "\n",
        "# Print result\n",
        "for row in result:\n",
        "    print(row)\n",
        "\n",
        "end_time=time.time()\n",
        "\n",
        "print(f\"the execution time is {end_time-start_time}, and the start time is {start_time} and the end time is {end_time}\")"
      ],
      "metadata": {
        "colab": {
          "base_uri": "https://localhost:8080/"
        },
        "id": "Pj6QeHa4cgf4",
        "outputId": "7308c740-c827-4d72-b01b-46a997d2ada1"
      },
      "execution_count": 33,
      "outputs": [
        {
          "output_type": "stream",
          "name": "stdout",
          "text": [
            "[410, 217, 448, 403]\n",
            "[543, 304, 604, 511]\n",
            "[809, 478, 916, 727]\n",
            "[1075, 652, 1228, 943]\n",
            "the execution time is 0.0004589557647705078, and the start time is 1743076462.1572359 and the end time is 1743076462.1576948\n"
          ]
        }
      ]
    },
    {
      "cell_type": "code",
      "source": [],
      "metadata": {
        "id": "PhfLYTvUdA30"
      },
      "execution_count": null,
      "outputs": []
    }
  ]
}